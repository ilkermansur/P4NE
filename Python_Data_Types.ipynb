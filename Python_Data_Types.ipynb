{
 "cells": [
  {
   "cell_type": "markdown",
   "id": "46f5e067-7b3f-44fc-b111-0e5e52568c3d",
   "metadata": {
    "tags": []
   },
   "source": [
    "# Python Data Types                                                                                                                                          \n",
    "---\n",
    "\n",
    "* Numbers\n",
    "* Strings\n",
    "* List \n",
    "* Dictionary\n",
    "* Tuples\n",
    "* Sets\n",
    "* Boolean\n",
    "\n",
    "*PS: these data types, in turn, can be classified by several criteria:*\n",
    "\n",
    "- Mutable (lists,dictionaries,sets)\n",
    "- Immutable (integers,strings,tuples)\n",
    "- Ordered (list,tuples,string,dictionaries)\n",
    "- Unordered (sets)\n"
   ]
  },
  {
   "cell_type": "markdown",
   "id": "cde4c93d-ded0-4b5d-a4bc-b3a833b7a7b9",
   "metadata": {},
   "source": [
    "## Numbers\n",
    "---\n",
    "\n",
    "With numbers it is possible to perform virious mathematical operators"
   ]
  },
  {
   "cell_type": "code",
   "execution_count": 4,
   "id": "af9d4a63-640b-41ec-968d-5de3f9725b7d",
   "metadata": {},
   "outputs": [
    {
     "data": {
      "text/plain": [
       "4"
      ]
     },
     "execution_count": 4,
     "metadata": {},
     "output_type": "execute_result"
    }
   ],
   "source": [
    "1+3 # summation with integer"
   ]
  },
  {
   "cell_type": "code",
   "execution_count": 7,
   "id": "c128e92a-03b9-4abd-a5fc-a94a536342a0",
   "metadata": {},
   "outputs": [
    {
     "data": {
      "text/plain": [
       "3.2"
      ]
     },
     "execution_count": 7,
     "metadata": {},
     "output_type": "execute_result"
    }
   ],
   "source": [
    "1.0 + 2.2 # summation with float"
   ]
  },
  {
   "cell_type": "code",
   "execution_count": 6,
   "id": "827d6b19-b5e7-4666-af96-22b9acdea4d5",
   "metadata": {},
   "outputs": [
    {
     "data": {
      "text/plain": [
       "16"
      ]
     },
     "execution_count": 6,
     "metadata": {},
     "output_type": "execute_result"
    }
   ],
   "source": [
    "2 ** 4 # power"
   ]
  },
  {
   "cell_type": "code",
   "execution_count": 13,
   "id": "f22f6593-7b57-4893-9a55-8daa4d90e2b7",
   "metadata": {},
   "outputs": [
    {
     "data": {
      "text/plain": [
       "3.3333333333333335"
      ]
     },
     "execution_count": 13,
     "metadata": {},
     "output_type": "execute_result"
    }
   ],
   "source": [
    "10 /3.0 # Division "
   ]
  },
  {
   "cell_type": "code",
   "execution_count": 14,
   "id": "78bbe7ac-3c4b-43d2-bdbb-aca43dfe904a",
   "metadata": {},
   "outputs": [
    {
     "data": {
      "text/plain": [
       "3.33"
      ]
     },
     "execution_count": 14,
     "metadata": {},
     "output_type": "execute_result"
    }
   ],
   "source": [
    "round(10/3.0,2) # round a number to a givenprecision in decimal digits."
   ]
  },
  {
   "cell_type": "code",
   "execution_count": 15,
   "id": "fb097992-e3a0-4213-a14c-4aaf653dbdf7",
   "metadata": {},
   "outputs": [
    {
     "data": {
      "text/plain": [
       "1"
      ]
     },
     "execution_count": 15,
     "metadata": {},
     "output_type": "execute_result"
    }
   ],
   "source": [
    "16 % 3 # modules"
   ]
  },
  {
   "cell_type": "markdown",
   "id": "b710559a-afe3-4be2-87d9-d910b9243508",
   "metadata": {},
   "source": [
    "- Comparison Operators"
   ]
  },
  {
   "cell_type": "code",
   "execution_count": 16,
   "id": "2c8b3cdb-b648-4cdc-a8f7-7df2db3a9412",
   "metadata": {},
   "outputs": [
    {
     "data": {
      "text/plain": [
       "True"
      ]
     },
     "execution_count": 16,
     "metadata": {},
     "output_type": "execute_result"
    }
   ],
   "source": [
    "10 > 3.0"
   ]
  },
  {
   "cell_type": "code",
   "execution_count": 17,
   "id": "b96cca82-f3dd-498d-861c-3b97abdeb882",
   "metadata": {},
   "outputs": [
    {
     "data": {
      "text/plain": [
       "False"
      ]
     },
     "execution_count": 17,
     "metadata": {},
     "output_type": "execute_result"
    }
   ],
   "source": [
    "10 < 3"
   ]
  },
  {
   "cell_type": "code",
   "execution_count": 18,
   "id": "771ceb60-c43b-402a-981f-9761a0965937",
   "metadata": {},
   "outputs": [
    {
     "data": {
      "text/plain": [
       "True"
      ]
     },
     "execution_count": 18,
     "metadata": {},
     "output_type": "execute_result"
    }
   ],
   "source": [
    "100 == 100"
   ]
  },
  {
   "cell_type": "code",
   "execution_count": 19,
   "id": "6598520b-be1b-47a7-b498-61247b107b47",
   "metadata": {},
   "outputs": [
    {
     "data": {
      "text/plain": [
       "False"
      ]
     },
     "execution_count": 19,
     "metadata": {},
     "output_type": "execute_result"
    }
   ],
   "source": [
    "100 != 100"
   ]
  },
  {
   "cell_type": "code",
   "execution_count": 20,
   "id": "b28a7540-8b4b-4246-8745-2c59d13bd9f9",
   "metadata": {},
   "outputs": [
    {
     "data": {
      "text/plain": [
       "True"
      ]
     },
     "execution_count": 20,
     "metadata": {},
     "output_type": "execute_result"
    }
   ],
   "source": [
    "100 != 90"
   ]
  },
  {
   "cell_type": "code",
   "execution_count": 21,
   "id": "bc628a64-7021-4979-9646-e62481f90ee9",
   "metadata": {},
   "outputs": [
    {
     "data": {
      "text/plain": [
       "True"
      ]
     },
     "execution_count": 21,
     "metadata": {},
     "output_type": "execute_result"
    }
   ],
   "source": [
    "10.0 == 10"
   ]
  },
  {
   "cell_type": "markdown",
   "id": "a0ce37de-0edb-4c4c-8ad9-5ea8bf4a2e4f",
   "metadata": {},
   "source": [
    "- The `int()` function allows converting to int type."
   ]
  },
  {
   "cell_type": "code",
   "execution_count": 23,
   "id": "0db9ed8e-dacd-4ccb-b72b-a3e6a859c367",
   "metadata": {},
   "outputs": [
    {
     "name": "stdout",
     "output_type": "stream",
     "text": [
      "<class 'str'>\n",
      "<class 'int'>\n"
     ]
    }
   ],
   "source": [
    "a = '11'\n",
    "print(type(a))\n",
    "a = int(a)\n",
    "print(type(a))"
   ]
  },
  {
   "cell_type": "code",
   "execution_count": 24,
   "id": "14e52a72-b569-407a-a27c-ff7d0f184f79",
   "metadata": {},
   "outputs": [
    {
     "name": "stdout",
     "output_type": "stream",
     "text": [
      "3\n"
     ]
    }
   ],
   "source": [
    "b = 3.9\n",
    "b = int(b)\n",
    "print (b)"
   ]
  },
  {
   "cell_type": "markdown",
   "id": "dccfad6e-b440-495f-ba6a-0875ce8ceb14",
   "metadata": {},
   "source": [
    "- `bin()` function allows converting to binary format"
   ]
  },
  {
   "cell_type": "code",
   "execution_count": 26,
   "id": "617b43b7-d009-4bbd-9ed2-c3afe876e849",
   "metadata": {},
   "outputs": [
    {
     "name": "stdout",
     "output_type": "stream",
     "text": [
      "0b101010\n",
      "0b11\n"
     ]
    }
   ],
   "source": [
    "a = 42\n",
    "b = 3\n",
    "bin_a = bin(a)\n",
    "bin_b = bin(b)\n",
    "print (bin_a)\n",
    "print (bin_b)"
   ]
  },
  {
   "cell_type": "markdown",
   "id": "ef957b5a-3787-4514-8b8a-37e95fcd0ba3",
   "metadata": {},
   "source": [
    "- Similarly `hex()` produces a hexadecimal value"
   ]
  },
  {
   "cell_type": "code",
   "execution_count": 28,
   "id": "4b7363c8-6ce4-4af2-b915-a9d6b0fa61e2",
   "metadata": {},
   "outputs": [
    {
     "name": "stdout",
     "output_type": "stream",
     "text": [
      "0xd\n",
      "0xf\n"
     ]
    }
   ],
   "source": [
    "a = 13\n",
    "b = 15 \n",
    "hex_a = hex(a)\n",
    "print (hex_a)\n",
    "hex_b = hex(b)\n",
    "print (hex_b)"
   ]
  },
  {
   "cell_type": "markdown",
   "id": "d2f95428-f45c-41b8-8087-f09ad4596a94",
   "metadata": {},
   "source": [
    "***PS : You can several changes at same time***"
   ]
  },
  {
   "cell_type": "code",
   "execution_count": 37,
   "id": "a52b60af-f178-4e00-a0e9-88e446a15af2",
   "metadata": {},
   "outputs": [
    {
     "data": {
      "text/plain": [
       "'0b1000010'"
      ]
     },
     "execution_count": 37,
     "metadata": {},
     "output_type": "execute_result"
    }
   ],
   "source": [
    "bin(int('66',0))"
   ]
  },
  {
   "cell_type": "code",
   "execution_count": 40,
   "id": "d601b07d-622c-43fa-a034-08b205e5bb96",
   "metadata": {},
   "outputs": [
    {
     "name": "stdout",
     "output_type": "stream",
     "text": [
      "153\n"
     ]
    }
   ],
   "source": [
    "a = '10011001'\n",
    "b = int(a,2)\n",
    "print (b)"
   ]
  },
  {
   "cell_type": "markdown",
   "id": "b11913a5-ce4c-45b1-8e1e-b9d5f01786e6",
   "metadata": {},
   "source": [
    "- For more complex math functions, python has math module"
   ]
  },
  {
   "cell_type": "code",
   "execution_count": 46,
   "id": "8c3c2d13-d022-4d18-acbe-0107cab31bd8",
   "metadata": {},
   "outputs": [
    {
     "name": "stdout",
     "output_type": "stream",
     "text": [
      "11.0\n",
      "24\n",
      "3.141592653589793\n"
     ]
    }
   ],
   "source": [
    "import math\n",
    "a = math.sqrt(121)\n",
    "print (a)\n",
    "b = math.factorial(4)\n",
    "print (b)\n",
    "p = math.pi\n",
    "print(p)"
   ]
  },
  {
   "cell_type": "markdown",
   "id": "fd15397e-3e3f-45bd-aec8-6ff37d4201ee",
   "metadata": {},
   "source": [
    "---"
   ]
  },
  {
   "cell_type": "markdown",
   "id": "522501cf-a1ee-4a16-ae38-c55d410d9359",
   "metadata": {},
   "source": [
    "## Strings\n",
    "---\n",
    "\n",
    "Strings in Python is :\n",
    "\n",
    "- sequence of characters enclosed in quotes\n",
    "- immutable ordered data type"
   ]
  },
  {
   "cell_type": "code",
   "execution_count": 49,
   "id": "db1622bd-b251-4917-843c-ab17037a310d",
   "metadata": {},
   "outputs": [
    {
     "name": "stdout",
     "output_type": "stream",
     "text": [
      "Hello World!\n",
      "Hello World!\n",
      "\n",
      "interface tunnel0\n",
      " ip address 10.10.10.1 255.255.255.0\n",
      " ip mtu 1416\n",
      " ip ospf hello-interval 5\n",
      " tunnel source fastEthernet1/0\n",
      " tunnel destination 2.2.2.2\n",
      " \n"
     ]
    }
   ],
   "source": [
    "a = 'Hello World!'\n",
    "b = \"Hello World!\"\n",
    "tunnel = \"\"\"\n",
    "interface tunnel0\n",
    " ip address 10.10.10.1 255.255.255.0\n",
    " ip mtu 1416\n",
    " ip ospf hello-interval 5\n",
    " tunnel source fastEthernet1/0\n",
    " tunnel destination 2.2.2.2\n",
    " \"\"\"\n",
    "print(a)\n",
    "print(b)\n",
    "print (tunnel)"
   ]
  },
  {
   "cell_type": "markdown",
   "id": "dda73454-69d8-44d6-a52c-7646a70b8449",
   "metadata": {},
   "source": [
    "- String can be summed and then they merge into one string"
   ]
  },
  {
   "cell_type": "code",
   "execution_count": 54,
   "id": "8bcb409d-01ff-4795-96b1-725fa1642c98",
   "metadata": {},
   "outputs": [
    {
     "name": "stdout",
     "output_type": "stream",
     "text": [
      "interfacetunnel0\n",
      "interface tunnel0\n",
      "interface tunnel0\n",
      "interfacetunnel0\n",
      "interface\n",
      "tunnel0\n"
     ]
    }
   ],
   "source": [
    "intf = 'interface'\n",
    "tun = 'tunnel0'\n",
    "mergeStr = intf + tun\n",
    "print (mergeStr)\n",
    "mergeStr = intf +' '+tun\n",
    "print (mergeStr)\n",
    "print (intf,tun)\n",
    "print (intf,tun,sep='')\n",
    "print (intf,tun,sep='\\n')"
   ]
  },
  {
   "cell_type": "code",
   "execution_count": 56,
   "id": "838e3e9d-a0e7-4405-bd82-7ad18594b647",
   "metadata": {},
   "outputs": [
    {
     "name": "stdout",
     "output_type": "stream",
     "text": [
      "interfaceinterfaceinterfaceinterfaceinterface\n"
     ]
    }
   ],
   "source": [
    "intf5 = intf * 5\n",
    "print (intf5)"
   ]
  },
  {
   "cell_type": "markdown",
   "id": "e0f4d695-c03e-4d4c-aece-a4137ce3171b",
   "metadata": {},
   "source": [
    "- String and Array Relations"
   ]
  },
  {
   "cell_type": "code",
   "execution_count": 64,
   "id": "b28c68ae-ef8c-44c6-8663-a2e343090f3e",
   "metadata": {},
   "outputs": [
    {
     "name": "stdout",
     "output_type": "stream",
     "text": [
      "R\n",
      "o\n",
      "Router01\n",
      "uter01\n",
      "Rout\n",
      "Router01\n",
      "Rue0\n"
     ]
    }
   ],
   "source": [
    "Device01 = 'Router01'\n",
    "print(Device01[0]) # show first index\n",
    "print(Device01[1]) # show second index\n",
    "print(Device01[:]) # show from begining to end\n",
    "print(Device01[2:]) # show from third index to end\n",
    "print(Device01[:4]) # show show from begining to fourth index\n",
    "print(Device01[0:8:1]) # from first index to eighth index one by one\n",
    "print(Device01[::2]) # from begining index to end with increment 2"
   ]
  },
  {
   "cell_type": "markdown",
   "id": "b79c8258-c60f-4da5-986a-b7d35dec3924",
   "metadata": {},
   "source": [
    "- With `len()` function you can count paticipants in the array"
   ]
  },
  {
   "cell_type": "code",
   "execution_count": 67,
   "id": "e992da57-283a-48a9-bb0f-90979430304a",
   "metadata": {},
   "outputs": [
    {
     "name": "stdout",
     "output_type": "stream",
     "text": [
      "8\n",
      "2\n"
     ]
    }
   ],
   "source": [
    "Dev01 = 'Router01'\n",
    "print(len(Dev01)) # Count characters in string\n",
    "\n",
    "List01 = ['Router_01', 'Switch_01']\n",
    "print(len(List01)) # Count items in list.(We will discuss in List)\n"
   ]
  },
  {
   "cell_type": "markdown",
   "id": "b60eba5f-ed8d-4c57-819a-3464ee9c5720",
   "metadata": {},
   "source": [
    "- Some string `METHODS` and its usage"
   ]
  },
  {
   "cell_type": "code",
   "execution_count": 70,
   "id": "7352b0ec-d7b0-48fb-9e77-aec1b54b4c9d",
   "metadata": {},
   "outputs": [
    {
     "name": "stdout",
     "output_type": "stream",
     "text": [
      "Gigabitethernet 1/0/1\n",
      "GIGABITETHERNET 1/0/1\n",
      "gigabitethernet 1/0/1\n",
      "gIGABITeTHERNET 1/0/1\n",
      "GigabitEthernet 1/0/1\n",
      "gigabitethernet 1/0/1\n"
     ]
    }
   ],
   "source": [
    "int01 = 'GigabitEthernet 1/0/1'\n",
    "print(int01.capitalize())\n",
    "print(int01.upper())\n",
    "print(int01.lower())\n",
    "print(int01.swapcase())\n",
    "print(int01) # You shuld assign value to string if you want to change its value\n",
    "int01 = int01.lower()\n",
    "print(int01)\n",
    "\n"
   ]
  },
  {
   "cell_type": "code",
   "execution_count": 82,
   "id": "8434bbb5-802e-4996-8a1b-eaaa298c86d7",
   "metadata": {},
   "outputs": [
    {
     "name": "stdout",
     "output_type": "stream",
     "text": [
      "4\n",
      "1\n",
      "d\n",
      ",\n"
     ]
    }
   ],
   "source": [
    "string01 = 'dev01,dev02,dev03,dev04'\n",
    "print(string01.count('dev'))\n",
    "print(string01.count('dev01'))\n",
    "print(string01[0])\n",
    "print(string01[5]) # It is not a list it is string\n"
   ]
  },
  {
   "cell_type": "code",
   "execution_count": 85,
   "id": "0ee051b6-d4be-4dd4-b59a-6d2a46afbe98",
   "metadata": {},
   "outputs": [
    {
     "name": "stdout",
     "output_type": "stream",
     "text": [
      "True\n",
      "True\n",
      "False\n"
     ]
    }
   ],
   "source": [
    "int01 = 'GigabitEthernet 1/0/1'\n",
    "print (int01.startswith('Giga'))\n",
    "print (int01.endswith('0/1'))\n",
    "print (int01.endswith('1/1'))"
   ]
  },
  {
   "cell_type": "code",
   "execution_count": 86,
   "id": "649c8eaa-d007-4e90-9bff-591a8a9c79d2",
   "metadata": {},
   "outputs": [
    {
     "name": "stdout",
     "output_type": "stream",
     "text": [
      "FastEthernet 1/0/1\n"
     ]
    }
   ],
   "source": [
    "int01 = 'GigabitEthernet 1/0/1'\n",
    "int01 = int01.replace('Gigabit','Fast') # To change value Gigabit and Fast\n",
    "print(int01)"
   ]
  },
  {
   "cell_type": "code",
   "execution_count": 87,
   "id": "4217d1fa-e3ae-49e1-b18a-7d01c432d9f0",
   "metadata": {},
   "outputs": [
    {
     "name": "stdout",
     "output_type": "stream",
     "text": [
      "FastEthernet 0/1\n"
     ]
    }
   ],
   "source": [
    "int01 = int01.replace('1/','') # To remove something \n",
    "print (int01)"
   ]
  },
  {
   "cell_type": "code",
   "execution_count": 88,
   "id": "ce8c1188-39f6-4d0e-8b50-827b9ab3bb9c",
   "metadata": {},
   "outputs": [
    {
     "name": "stdout",
     "output_type": "stream",
     "text": [
      "\n",
      "\t Unauthorized Users will be punnish\n",
      "\n"
     ]
    }
   ],
   "source": [
    "Banner = '\\n\\t Unauthorized Users will be punnish\\n' # enter + tab blablablabla enter\n",
    "print (Banner)"
   ]
  },
  {
   "cell_type": "code",
   "execution_count": 89,
   "id": "339b99cb-2796-4de5-9044-0e97ce7bbfc9",
   "metadata": {},
   "outputs": [
    {
     "name": "stdout",
     "output_type": "stream",
     "text": [
      "Unauthorized Users will be punnish\n"
     ]
    }
   ],
   "source": [
    "Banner = Banner.strip() # Strip removes all blank characters\n",
    "print (Banner)"
   ]
  },
  {
   "cell_type": "markdown",
   "id": "8fed8eed-6b21-48f0-b650-2e08ff9cd21f",
   "metadata": {},
   "source": [
    "- `strip` can be consist of arguments"
   ]
  },
  {
   "cell_type": "code",
   "execution_count": 92,
   "id": "399835d4-485a-4fd5-bfbc-6c40feab082f",
   "metadata": {},
   "outputs": [
    {
     "name": "stdout",
     "output_type": "stream",
     "text": [
      "GigabitEthernet \n",
      "bitEthernet \n",
      "bitEthernet \n"
     ]
    }
   ],
   "source": [
    "int01 = 'GigabitEthernet 1/0/1'\n",
    "int01 = int01.strip('1/0/1')\n",
    "print(int01)\n",
    "int01 = 'GigabitEthernet 1/0/1'\n",
    "int01 = int01.strip('Giga/0/1')\n",
    "print(int01)\n",
    "int01 = 'GigaGigabitEthernet 1/0/1'\n",
    "int01 = int01.strip('Giga/0/1')\n",
    "print(int01)"
   ]
  },
  {
   "cell_type": "markdown",
   "id": "5b113257",
   "metadata": {},
   "source": [
    "- `find` method for find specific word lower index"
   ]
  },
  {
   "cell_type": "code",
   "execution_count": 2,
   "id": "d1de00f3",
   "metadata": {},
   "outputs": [
    {
     "name": "stdout",
     "output_type": "stream",
     "text": [
      "10\n"
     ]
    }
   ],
   "source": [
    "int01 = 'interface GigabitEthernet 1/0/1'\n",
    "print(int01.find('Gigabit')) # 'G' begin at 10 index"
   ]
  },
  {
   "cell_type": "markdown",
   "id": "8a1baab7",
   "metadata": {},
   "source": [
    "PS : If no match turns `-1`"
   ]
  },
  {
   "cell_type": "markdown",
   "id": "9f8685b0",
   "metadata": {},
   "source": [
    "- `split` is important method. Default split seperator is `blank`. "
   ]
  },
  {
   "cell_type": "code",
   "execution_count": 3,
   "id": "d2ec6251",
   "metadata": {},
   "outputs": [
    {
     "name": "stdout",
     "output_type": "stream",
     "text": [
      "['switchport', 'trunk', 'allowed', 'vlan', '10,20,30,40,100-200']\n"
     ]
    }
   ],
   "source": [
    "cnfset = 'switchport trunk allowed vlan 10,20,30,40,100-200'\n",
    "cnflist = cnfset.split()\n",
    "print (cnflist)"
   ]
  },
  {
   "cell_type": "code",
   "execution_count": 5,
   "id": "35a57da3",
   "metadata": {},
   "outputs": [
    {
     "name": "stdout",
     "output_type": "stream",
     "text": [
      "['10', '20', '30', '40', '100-200']\n"
     ]
    }
   ],
   "source": [
    "print (cnflist[-1].split(','))"
   ]
  },
  {
   "cell_type": "code",
   "execution_count": 6,
   "id": "c0865c2c",
   "metadata": {},
   "outputs": [
    {
     "name": "stdout",
     "output_type": "stream",
     "text": [
      "['FastEthernet0/0', '10.0.10.1', 'YES', 'manual', 'up', 'up']\n"
     ]
    }
   ],
   "source": [
    "intinfo = \"FastEthernet0/0       10.0.10.1    YES manual up         up\"\n",
    "print(intinfo.split()) # one or more blank not only one blank"
   ]
  },
  {
   "cell_type": "markdown",
   "id": "4e75fce8",
   "metadata": {},
   "source": [
    "- String format"
   ]
  },
  {
   "cell_type": "code",
   "execution_count": 10,
   "id": "4b428e02",
   "metadata": {},
   "outputs": [
    {
     "name": "stdout",
     "output_type": "stream",
     "text": [
      "interface FastEthernet 0/1/1\n",
      "interface FastEthernet 0/1/2\n",
      "interface FastEthernet 0/1/1\n"
     ]
    }
   ],
   "source": [
    "port = '1'\n",
    "intf = 'interface FastEthernet 0/1/{}'.format(port)\n",
    "print(intf)\n",
    "intf = 'interface FastEthernet 0/1/{}'.format('2')\n",
    "print(intf)\n",
    "intf = 'interface FastEthernet {}/{}/{}'.format('0',port,'1')\n",
    "print(intf)"
   ]
  },
  {
   "cell_type": "code",
   "execution_count": 49,
   "id": "9e84627c",
   "metadata": {},
   "outputs": [
    {
     "name": "stdout",
     "output_type": "stream",
     "text": [
      "192.168.10.1 255.255.255.0\n",
      "192.168.10.1 255.255.255.0\n",
      "192.168.10.1 255.255.255.0\n"
     ]
    }
   ],
   "source": [
    "ip_address = '{} {}'.format('192.168.10.1' , '255.255.255.0')\n",
    "print(ip_address)\n",
    "ip_address = '{ip} {mask}'.format(mask='255.255.255.0', ip='192.168.10.1')\n",
    "print(ip_address)\n",
    "ip_address = '{1} {0}'.format('255.255.255.0' , '192.168.10.1')\n",
    "print(ip_address)"
   ]
  },
  {
   "cell_type": "code",
   "execution_count": 17,
   "id": "56c18664",
   "metadata": {},
   "outputs": [
    {
     "name": "stdout",
     "output_type": "stream",
     "text": [
      "100\n",
      "<class 'str'>\n"
     ]
    }
   ],
   "source": [
    "vlan, mac, intf = ['100', 'aabb.cc80.7000', 'Gi0/1']\n",
    "\n",
    "print(vlan)\n",
    "print(type(vlan))"
   ]
  },
  {
   "cell_type": "code",
   "execution_count": 24,
   "id": "efec489e",
   "metadata": {},
   "outputs": [
    {
     "name": "stdout",
     "output_type": "stream",
     "text": [
      "100 aabb.cc80.7000 Gi0/1\n",
      "            100 aabb.cc80.7000 Gi0/1\n",
      "            100  aabb.cc80.7000 Gi0/1\n",
      "            100     aabb.cc80.7000 Gi0/1\n",
      "100             aabb.cc80.7000 Gi0/1\n",
      "100             aabb.cc80.7000 Gi0/1\n"
     ]
    }
   ],
   "source": [
    "vlan, mac, intf = ['100', 'aabb.cc80.7000', 'Gi0/1']\n",
    "print ('{} {} {}'.format(vlan,mac,intf))\n",
    "print ('{:>15} {} {}'.format(vlan,mac,intf))\n",
    "print ('{:>15} {:>15} {}'.format(vlan,mac,intf))\n",
    "print ('{:>15} {:>18} {}'.format(vlan,mac,intf))\n",
    "print ('{:<15} {} {}'.format(vlan,mac,intf))\n",
    "print ('{:15} {} {}'.format(vlan,mac,intf))"
   ]
  },
  {
   "cell_type": "code",
   "execution_count": 25,
   "id": "eea610dc",
   "metadata": {},
   "outputs": [
    {
     "name": "stdout",
     "output_type": "stream",
     "text": [
      "\n",
      "IP Address:\n",
      "10.10.10.1\n",
      "\n"
     ]
    }
   ],
   "source": [
    "ip_address = \"\"\"\n",
    "IP Address:\n",
    "{}\n",
    "\"\"\"\n",
    "print(ip_address.format('10.10.10.1'))"
   ]
  },
  {
   "cell_type": "code",
   "execution_count": 28,
   "id": "fd6ea7cc",
   "metadata": {},
   "outputs": [
    {
     "name": "stdout",
     "output_type": "stream",
     "text": [
      "3.333\n"
     ]
    }
   ],
   "source": [
    "num1 = '{:.3f}'.format(10/3) # after dot 3 float chracters\n",
    "print(num1)"
   ]
  },
  {
   "cell_type": "code",
   "execution_count": 43,
   "id": "1e968d15",
   "metadata": {},
   "outputs": [
    {
     "name": "stdout",
     "output_type": "stream",
     "text": [
      "11000000 10101000 1010 1\n",
      "11000000 10101000     1010        1\n",
      "11000000 10101000 00001010 00000001\n"
     ]
    }
   ],
   "source": [
    "bin1 = '{:b} {:b} {:b} {:b}'.format(192,168,10,1)\n",
    "print(bin1)\n",
    "bin1 = '{:8b} {:8b} {:8b} {:8b}'.format(192,168,10,1)\n",
    "print(bin1)\n",
    "bin1 = '{:08b} {:08b} {:08b} {:08b}'.format(192,168,10,1)\n",
    "print(bin1)"
   ]
  },
  {
   "cell_type": "code",
   "execution_count": 34,
   "id": "64fca0e6",
   "metadata": {},
   "outputs": [
    {
     "name": "stdout",
     "output_type": "stream",
     "text": [
      "3.333\n"
     ]
    }
   ],
   "source": [
    "num1 = '{:.3f}'.format(10/3)\n",
    "print(num1)"
   ]
  },
  {
   "cell_type": "markdown",
   "id": "0bf6edaa",
   "metadata": {},
   "source": [
    "- At python 3.6 or above, it is possible to use f-string"
   ]
  },
  {
   "cell_type": "code",
   "execution_count": 52,
   "id": "db949a86",
   "metadata": {},
   "outputs": [
    {
     "name": "stdout",
     "output_type": "stream",
     "text": [
      "10.10.10.1 /24\n",
      "10.10.10.1 /24\n"
     ]
    }
   ],
   "source": [
    "ip = '10.10.10.1'\n",
    "mask = 24\n",
    "\n",
    "ip_mask = f'{ip} /{mask}'\n",
    "ip_mask_2 = '{} /{}'.format(ip,mask)\n",
    "print(ip_mask)\n",
    "print(ip_mask_2)"
   ]
  },
  {
   "cell_type": "markdown",
   "id": "2d2a2cfe",
   "metadata": {},
   "source": [
    "## List\n",
    " ***List in Python is :***\n",
    "- sequence of elements separated by comma and enclosed in square brackets \n",
    "- mutable ordered data type"
   ]
  },
  {
   "cell_type": "markdown",
   "id": "aa849974",
   "metadata": {},
   "source": [
    "---"
   ]
  },
  {
   "cell_type": "code",
   "execution_count": 65,
   "id": "8b88f2c4",
   "metadata": {},
   "outputs": [],
   "source": [
    "List_vlan = [10,20,30,40]\n",
    "List_device = ['Router01','Router02','Switch01','Firewall01']\n",
    "List_mix = [10,20,'Router01','Switch02']"
   ]
  },
  {
   "cell_type": "markdown",
   "id": "5225bd39",
   "metadata": {},
   "source": [
    "- You can convert to `list` from `string`"
   ]
  },
  {
   "cell_type": "code",
   "execution_count": 66,
   "id": "c7b5c9d6",
   "metadata": {},
   "outputs": [
    {
     "name": "stdout",
     "output_type": "stream",
     "text": [
      "['R', 'o', 'u', 't', 'e', 'r', '0', '1']\n"
     ]
    }
   ],
   "source": [
    "Device01 = 'Router01'\n",
    "list_Device01 = list(Device01)\n",
    "print(list_Device01)"
   ]
  },
  {
   "cell_type": "markdown",
   "id": "6e6831c1",
   "metadata": {},
   "source": [
    "- `Index` usage is same like string"
   ]
  },
  {
   "cell_type": "code",
   "execution_count": 67,
   "id": "6a0d7881",
   "metadata": {},
   "outputs": [
    {
     "name": "stdout",
     "output_type": "stream",
     "text": [
      "R\n"
     ]
    }
   ],
   "source": [
    "Device01 = 'Router01'\n",
    "list_Device01 = list(Device01)\n",
    "print(list_Device01[0])"
   ]
  },
  {
   "cell_type": "code",
   "execution_count": 91,
   "id": "1432c493",
   "metadata": {},
   "outputs": [
    {
     "name": "stdout",
     "output_type": "stream",
     "text": [
      "[1, 3, 5, 7]\n",
      "[7, 5, 3, 1]\n"
     ]
    }
   ],
   "source": [
    "vlan = [1,3,5,7]\n",
    "print(vlan)\n",
    "vlan.reverse()\n",
    "print(vlan)"
   ]
  },
  {
   "cell_type": "markdown",
   "id": "34f8cfc2",
   "metadata": {},
   "source": [
    "- You can create list of list"
   ]
  },
  {
   "cell_type": "code",
   "execution_count": 92,
   "id": "6e09e180",
   "metadata": {},
   "outputs": [
    {
     "name": "stdout",
     "output_type": "stream",
     "text": [
      "fastEthernet 0/0\n"
     ]
    }
   ],
   "source": [
    "cfg = [['interface','fastEthernet 0/0'], ['interface','fastEthernet 0/1'], ['interface','fastEthernet 0/2']]\n",
    "cfg00 = cfg[0][1]\n",
    "print(cfg00)"
   ]
  },
  {
   "cell_type": "markdown",
   "id": "906f8c7d",
   "metadata": {},
   "source": [
    "- The len function returns number of items in list:"
   ]
  },
  {
   "cell_type": "code",
   "execution_count": 93,
   "id": "c8498f91",
   "metadata": {},
   "outputs": [
    {
     "name": "stdout",
     "output_type": "stream",
     "text": [
      "4\n"
     ]
    }
   ],
   "source": [
    "vlan = [1,3,5,7]\n",
    "print(len(vlan))"
   ]
  },
  {
   "cell_type": "markdown",
   "id": "09bb5d72",
   "metadata": {},
   "source": [
    "- `sorted` uses for a to z or 1 to infinite"
   ]
  },
  {
   "cell_type": "code",
   "execution_count": 97,
   "id": "8937d532",
   "metadata": {},
   "outputs": [
    {
     "name": "stdout",
     "output_type": "stream",
     "text": [
      "[1, 3, 5, 7]\n",
      "['b', 'f', 'g', 's']\n"
     ]
    }
   ],
   "source": [
    "vlan = [7,5,1,3]\n",
    "print(sorted(vlan))\n",
    "Alfabets = ['f','b','g','s']\n",
    "print(sorted(Alfabets))"
   ]
  },
  {
   "cell_type": "markdown",
   "id": "76a78d84",
   "metadata": {},
   "source": [
    "- Method `join` collects a list of strings into one string with separator specified before join"
   ]
  },
  {
   "cell_type": "code",
   "execution_count": 12,
   "id": "40cf224a",
   "metadata": {},
   "outputs": [
    {
     "name": "stdout",
     "output_type": "stream",
     "text": [
      "7,5,1,3\n",
      "<class 'str'>\n",
      "7 *-* 5 *-* 1 *-* 3\n"
     ]
    }
   ],
   "source": [
    "vlan = ['7','5','1','3']\n",
    "vlanjoin = ','.join(vlan)\n",
    "print(vlanjoin)\n",
    "print(type(vlanjoin))\n",
    "vlanjoin = ' *-* '.join(vlan)\n",
    "print(vlanjoin)"
   ]
  },
  {
   "cell_type": "markdown",
   "id": "843153ba",
   "metadata": {},
   "source": [
    "Important list method `append`, `extend` ,`pop`, `remove`\n"
   ]
  },
  {
   "cell_type": "code",
   "execution_count": 17,
   "id": "f30c0778",
   "metadata": {},
   "outputs": [
    {
     "name": "stdout",
     "output_type": "stream",
     "text": [
      "['7', '5', '1', '3', '12']\n"
     ]
    }
   ],
   "source": [
    "vlan = ['7','5','1','3']\n",
    "vlan.append('12') # add item end of the list\n",
    "print(vlan)"
   ]
  },
  {
   "cell_type": "code",
   "execution_count": 22,
   "id": "cf96dd82",
   "metadata": {},
   "outputs": [
    {
     "name": "stdout",
     "output_type": "stream",
     "text": [
      "[7, 5, 1, 3, 9, 8, 6, 2, 4, 10]\n",
      "[1, 2, 3, 4, 5, 6, 7, 8, 9, 10]\n"
     ]
    }
   ],
   "source": [
    "vlanodd = [7, 5, 1, 3, 9]\n",
    "vlaneven = [8, 6, 2, 4, 10]\n",
    "vlanodd.extend(vlaneven) # add second list into the first list\n",
    "print(vlanodd)\n",
    "vlanodd = sorted(vlanodd)\n",
    "print(vlanodd)"
   ]
  },
  {
   "cell_type": "markdown",
   "id": "a26c337b",
   "metadata": {},
   "source": [
    "- There is another method for combine two list. it is `addition operator`"
   ]
  },
  {
   "cell_type": "code",
   "execution_count": 23,
   "id": "42c96470",
   "metadata": {},
   "outputs": [
    {
     "name": "stdout",
     "output_type": "stream",
     "text": [
      "[7, 5, 1, 3, 9, 8, 6, 2, 4, 10]\n"
     ]
    }
   ],
   "source": [
    "vlanodd = [7, 5, 1, 3, 9]\n",
    "vlaneven = [8, 6, 2, 4, 10]\n",
    "result_Vlan = vlanodd + vlaneven \n",
    "print (result_Vlan)"
   ]
  },
  {
   "cell_type": "markdown",
   "id": "88d6ab74",
   "metadata": {},
   "source": [
    "PS : There is a small difference between `extend` and `addition operator`, `extend` extends a specific list on the other hand `addition operator` creates a new list."
   ]
  },
  {
   "cell_type": "code",
   "execution_count": 37,
   "id": "cf8c97d7",
   "metadata": {},
   "outputs": [
    {
     "name": "stdout",
     "output_type": "stream",
     "text": [
      "[1, 2, 3, 4, 5, 6, 7, 8, 9, 10]\n",
      "[1, 2, 3, 4, 5, 7, 8, 9, 10]\n",
      "[1, 2, 3, 4, 5, 7, 8, 9]\n",
      "[1, 2, 3, 4, 5, 8, 9]\n"
     ]
    }
   ],
   "source": [
    "vlan_sorted = sorted(result_Vlan)\n",
    "print(vlan_sorted)\n",
    "vlan_sorted.pop(5) # it removes index 5\n",
    "print(vlan_sorted)\n",
    "vlan_sorted.pop() # it removes last items\n",
    "print(vlan_sorted)\n",
    "vlan_sorted.remove(7) # if you want to remove specific item,you should use `remove`\n",
    "print(vlan_sorted)"
   ]
  },
  {
   "cell_type": "markdown",
   "id": "24644f5a",
   "metadata": {},
   "source": [
    "- `index` and `insert` method."
   ]
  },
  {
   "cell_type": "code",
   "execution_count": 38,
   "id": "5641bdb8",
   "metadata": {},
   "outputs": [
    {
     "name": "stdout",
     "output_type": "stream",
     "text": [
      "2\n"
     ]
    }
   ],
   "source": [
    "vlan = ['7','5','1','3']\n",
    "print(vlan.index('1')) # it returns index number of item"
   ]
  },
  {
   "cell_type": "code",
   "execution_count": 43,
   "id": "da75e30b",
   "metadata": {},
   "outputs": [
    {
     "name": "stdout",
     "output_type": "stream",
     "text": [
      "['7', '5', '8', '1', '3']\n"
     ]
    }
   ],
   "source": [
    "vlan = ['7','5','1','3']\n",
    "vlan.insert(2,'8') # insert character at specific index\n",
    "print(vlan)"
   ]
  },
  {
   "cell_type": "markdown",
   "id": "41aaf223",
   "metadata": {},
   "source": [
    "## Dictionary\n",
    "\n",
    "*Dictionaries are mutable ordered data type:*\n",
    "\n",
    "- data in dictionary are pairs `key`:`value`\n",
    "- values are accessible by `key`, not by number as in lists\n",
    "- entries in dictionary stored in order they were added\n",
    "- since dictionaries are mutable, dictionary items can be changed, added, removed\n",
    "- `key` must be an immutable object: number, string, tuple\n",
    "- `value` can be data of any typ"
   ]
  },
  {
   "cell_type": "code",
   "execution_count": 46,
   "id": "9baf63e4",
   "metadata": {},
   "outputs": [
    {
     "name": "stdout",
     "output_type": "stream",
     "text": [
      "Switch01\n",
      "trunk\n"
     ]
    }
   ],
   "source": [
    "Port_Info = {\n",
    "    \n",
    "    'Device' : 'Switch01',\n",
    "    'Port' : 'Gi 1/0/1',\n",
    "    'Mode' : 'trunk',\n",
    "    'Description':True\n",
    "}\n",
    "\n",
    "print(Port_Info['Device'])\n",
    "print(Port_Info['Mode'])"
   ]
  },
  {
   "cell_type": "markdown",
   "id": "507aa06c",
   "metadata": {},
   "source": [
    "- In dictionary you can use a dictionary as a value:"
   ]
  },
  {
   "cell_type": "code",
   "execution_count": 48,
   "id": "903c977b",
   "metadata": {},
   "outputs": [
    {
     "name": "stdout",
     "output_type": "stream",
     "text": [
      "{'dev01': {'Device': 'Router_01', 'Ip Address': '10.10.10.1', 'Type': 'layer3'}, 'dev02': {'Device': 'Switch_01', 'Ip Address': '10.10.10.2', 'Type': 'layer2'}}\n"
     ]
    }
   ],
   "source": [
    "Maslak_DC = {\n",
    "    \n",
    "    'dev01':{\n",
    "        'Device':'Router_01',\n",
    "        'Ip Address':'10.10.10.1',\n",
    "        'Type':'layer3'\n",
    "    },\n",
    "    'dev02':{\n",
    "        'Device':'Switch_01',\n",
    "        'Ip Address':'10.10.10.2',\n",
    "        'Type':'layer2'   \n",
    "    }\n",
    "}\n",
    "\n",
    "print(Maslak_DC)"
   ]
  },
  {
   "cell_type": "code",
   "execution_count": 50,
   "id": "50a4a70f",
   "metadata": {},
   "outputs": [
    {
     "name": "stdout",
     "output_type": "stream",
     "text": [
      "layer3\n"
     ]
    }
   ],
   "source": [
    "print(Maslak_DC['dev01']['Type']) # you can call a value in dictionay"
   ]
  },
  {
   "cell_type": "code",
   "execution_count": 51,
   "id": "0bf6aac7",
   "metadata": {},
   "outputs": [
    {
     "name": "stdout",
     "output_type": "stream",
     "text": [
      "{'Device': 'Router_01', 'Ip Address': '10.10.10.1', 'Type': 'layer3'}\n"
     ]
    }
   ],
   "source": [
    "print(Maslak_DC['dev01'])"
   ]
  },
  {
   "cell_type": "code",
   "execution_count": 52,
   "id": "8caf1966",
   "metadata": {},
   "outputs": [
    {
     "name": "stdout",
     "output_type": "stream",
     "text": [
      "{'dev01': {'Device': 'Router_01', 'Ip Address': '10.10.20.1', 'Type': 'layer3'}, 'dev02': {'Device': 'Switch_01', 'Ip Address': '10.10.10.2', 'Type': 'layer2'}}\n"
     ]
    }
   ],
   "source": [
    "Maslak_DC['dev01']['Ip Address'] = '10.10.20.1' # you can change `Value`\n",
    "print(Maslak_DC)"
   ]
  },
  {
   "cell_type": "code",
   "execution_count": 55,
   "id": "ca54c500",
   "metadata": {},
   "outputs": [
    {
     "name": "stdout",
     "output_type": "stream",
     "text": [
      "{'dev01': {'Device': 'Router_01', 'Ip Address': '10.10.20.1', 'Type': 'layer3'}, 'dev02': {'Device': 'Switch_01', 'Ip Address': '10.10.10.2', 'Type': 'layer2'}}\n",
      "1904080173376\n",
      "1904077819520\n"
     ]
    }
   ],
   "source": [
    "Maslak_DC2 = Maslak_DC.copy() # you can copy dictionary which you want\n",
    "print(Maslak_DC2)\n",
    "print(id(Maslak_DC))\n",
    "print(id(Maslak_DC2))"
   ]
  },
  {
   "cell_type": "markdown",
   "id": "df00b18f",
   "metadata": {},
   "source": [
    "- `keys`, `values`, `items` (key value pair)"
   ]
  },
  {
   "cell_type": "code",
   "execution_count": 1,
   "id": "1f15099e",
   "metadata": {},
   "outputs": [
    {
     "name": "stdout",
     "output_type": "stream",
     "text": [
      "dict_keys(['r1', 'sw1'])\n",
      "\n",
      "\n",
      "dict_values([{'type': 'layer3', 'ip': '10.0.0.1', 'default_r': True}, {'type': 'layer2', 'ip': '10.0.0.2', 'default_r': False}])\n",
      "\n",
      "\n",
      "dict_items([('r1', {'type': 'layer3', 'ip': '10.0.0.1', 'default_r': True}), ('sw1', {'type': 'layer2', 'ip': '10.0.0.2', 'default_r': False})])\n",
      "\n",
      "\n",
      "10.0.0.1\n"
     ]
    }
   ],
   "source": [
    "devices = {   \n",
    "    'r1':\n",
    "    { \n",
    "        'type':'layer3',\n",
    "        'ip':'10.0.0.1',\n",
    "        'default_r':True\n",
    "    },\n",
    "    \n",
    "    'sw1':\n",
    "    {    \n",
    "        'type':'layer2',\n",
    "        'ip':'10.0.0.2',\n",
    "        'default_r':False\n",
    "    }\n",
    "}\n",
    "\n",
    "keys = devices.keys()\n",
    "print(keys)\n",
    "print('\\n')\n",
    "print(devices.values())\n",
    "print('\\n')\n",
    "print(devices.items())\n",
    "print('\\n')\n",
    "print(devices['r1']['ip'])"
   ]
  },
  {
   "cell_type": "markdown",
   "id": "1f1e7f73",
   "metadata": {},
   "source": [
    "- `del` and `update` method in dictionary"
   ]
  },
  {
   "cell_type": "code",
   "execution_count": 2,
   "id": "89d0f4e8",
   "metadata": {},
   "outputs": [
    {
     "name": "stdout",
     "output_type": "stream",
     "text": [
      "{'sw1': {'type': 'layer2', 'ip': '10.0.0.2', 'default_r': False}}\n"
     ]
    }
   ],
   "source": [
    "devices = {   \n",
    "    'r1':\n",
    "    { \n",
    "        'type':'layer3',\n",
    "        'ip':'10.0.0.1',\n",
    "        'default_r':True\n",
    "    },\n",
    "    \n",
    "    'sw1':\n",
    "    {    \n",
    "        'type':'layer2',\n",
    "        'ip':'10.0.0.2',\n",
    "        'default_r':False\n",
    "    }\n",
    "}\n",
    "\n",
    "del devices['r1']\n",
    "print(devices)"
   ]
  },
  {
   "cell_type": "code",
   "execution_count": 3,
   "id": "e9d536ff",
   "metadata": {},
   "outputs": [
    {
     "name": "stdout",
     "output_type": "stream",
     "text": [
      "{'dev1': 'router', 'dev2': 'router', 'dev3': 'switch', 'dev4': 'router', 'dev5': 'switch'}\n"
     ]
    }
   ],
   "source": [
    "devices = {\n",
    "    \n",
    "    'dev1':'router',\n",
    "    'dev2':'router',\n",
    "    'dev3':'switch'\n",
    "}\n",
    "\n",
    "devices.update({'dev4':'router','dev5':'switch'})\n",
    "print(devices)"
   ]
  },
  {
   "cell_type": "code",
   "execution_count": 4,
   "id": "f004f842",
   "metadata": {},
   "outputs": [
    {
     "name": "stdout",
     "output_type": "stream",
     "text": [
      "{'dev1': 'switch', 'dev2': 'router', 'dev3': 'switch', 'dev4': 'router', 'dev5': 'switch'}\n"
     ]
    }
   ],
   "source": [
    "devices.update({'dev1':'switch'})\n",
    "print(devices)"
   ]
  },
  {
   "cell_type": "code",
   "execution_count": 5,
   "id": "c1ad5ccb",
   "metadata": {},
   "outputs": [
    {
     "name": "stdout",
     "output_type": "stream",
     "text": [
      "{'location': None, 'hostname': None, 'ios': None, 'ip': None}\n",
      "{'location': 'NA', 'hostname': 'NA', 'ios': 'NA', 'ip': 'NA'}\n"
     ]
    }
   ],
   "source": [
    "list01 = ['location','hostname','ios','ip']\n",
    "dict01 = dict.fromkeys(list01)\n",
    "print(dict01)\n",
    "dict01 = dict.fromkeys(list01,'NA')\n",
    "print(dict01)"
   ]
  },
  {
   "cell_type": "markdown",
   "id": "9cb2d86c",
   "metadata": {},
   "source": [
    "## Tuples\n",
    "\n",
    "Tuple in Python is:\n",
    "    \n",
    "- a sequence of elements separated by a comma and enclosed in parentheses \n",
    "- immutable ordered data type\n",
    "Roughly speaking, a tuple is a list that can’t be changed. We can say that the tuple has read-only permissions.\n",
    "It could be a defense against accidental change.\n",
    "\n",
    "---"
   ]
  },
  {
   "cell_type": "code",
   "execution_count": 6,
   "id": "a64c2929",
   "metadata": {},
   "outputs": [
    {
     "name": "stdout",
     "output_type": "stream",
     "text": [
      "()\n"
     ]
    }
   ],
   "source": [
    "tuples01 = tuple()\n",
    "print(tuples01)"
   ]
  },
  {
   "cell_type": "code",
   "execution_count": 7,
   "id": "f24ca3a7",
   "metadata": {},
   "outputs": [
    {
     "name": "stdout",
     "output_type": "stream",
     "text": [
      "('location', 'hostname', 'ios', 'ip')\n"
     ]
    }
   ],
   "source": [
    "list01 = ['location','hostname','ios','ip']\n",
    "list01 = tuple(list01)\n",
    "print(list01)"
   ]
  },
  {
   "cell_type": "code",
   "execution_count": 8,
   "id": "ca3cfb7b",
   "metadata": {},
   "outputs": [
    {
     "name": "stdout",
     "output_type": "stream",
     "text": [
      "location\n"
     ]
    }
   ],
   "source": [
    "print(list01[0])"
   ]
  },
  {
   "cell_type": "code",
   "execution_count": 9,
   "id": "c74ccd52",
   "metadata": {},
   "outputs": [
    {
     "ename": "TypeError",
     "evalue": "'tuple' object does not support item assignment",
     "output_type": "error",
     "traceback": [
      "\u001b[1;31m---------------------------------------------------------------------------\u001b[0m",
      "\u001b[1;31mTypeError\u001b[0m                                 Traceback (most recent call last)",
      "Input \u001b[1;32mIn [9]\u001b[0m, in \u001b[0;36m<cell line: 1>\u001b[1;34m()\u001b[0m\n\u001b[1;32m----> 1\u001b[0m \u001b[43mlist01\u001b[49m\u001b[43m[\u001b[49m\u001b[38;5;241;43m0\u001b[39;49m\u001b[43m]\u001b[49m \u001b[38;5;241m=\u001b[39m \u001b[38;5;124m'\u001b[39m\u001b[38;5;124mDC\u001b[39m\u001b[38;5;124m'\u001b[39m\n",
      "\u001b[1;31mTypeError\u001b[0m: 'tuple' object does not support item assignment"
     ]
    }
   ],
   "source": [
    "list01[0] = 'DC'"
   ]
  },
  {
   "cell_type": "code",
   "execution_count": 10,
   "id": "c0e48851",
   "metadata": {},
   "outputs": [
    {
     "name": "stdout",
     "output_type": "stream",
     "text": [
      "('location', 'hostname', 'ios', 'ip')\n",
      "['location', 'hostname', 'ios', 'ip']\n"
     ]
    }
   ],
   "source": [
    "print(list01)\n",
    "\n",
    "tp01 = list(list01)\n",
    "print(tp01)"
   ]
  },
  {
   "cell_type": "markdown",
   "id": "1786b4f0",
   "metadata": {},
   "source": [
    "## SET\n",
    "- Set is a mutable unordered data type. \n",
    "- Set always contains only unique elements. \n",
    "- Set in Python is a sequence of elements that are separated by a comma and placed in curly braces.\n",
    "- Set can easily remove repetitive elements."
   ]
  },
  {
   "cell_type": "markdown",
   "id": "5565fef5",
   "metadata": {},
   "source": [
    "`add`,`discard`,`clear`,`union`,`intersection` methods and its usages"
   ]
  },
  {
   "cell_type": "code",
   "execution_count": 12,
   "id": "03a83caa",
   "metadata": {},
   "outputs": [
    {
     "name": "stdout",
     "output_type": "stream",
     "text": [
      "{100, 40, 10, 50, 20, 30}\n",
      "{100, 40, 10, 50, 20, 60, 30}\n",
      "{100, 40, 50, 20, 60, 30}\n",
      "set()\n"
     ]
    }
   ],
   "source": [
    "vlans = [10,20,30,40,50,100,10]\n",
    "vlans = set(vlans)\n",
    "print(vlans)\n",
    "vlans.add(60)\n",
    "print(vlans)\n",
    "vlans.discard(10)\n",
    "print(vlans)\n",
    "vlans.clear()\n",
    "print(vlans)"
   ]
  },
  {
   "cell_type": "code",
   "execution_count": 13,
   "id": "afda7adf",
   "metadata": {},
   "outputs": [
    {
     "name": "stdout",
     "output_type": "stream",
     "text": [
      "{10, 11, 12, 20, 21, 22, 30}\n"
     ]
    }
   ],
   "source": [
    "vlan_1 = {10,11,20,21,30}\n",
    "vlan_2 = {10,12,20,22,30}\n",
    "vlan_result = vlan_1.union(vlan_2)\n",
    "print(vlan_result)"
   ]
  },
  {
   "cell_type": "code",
   "execution_count": 14,
   "id": "dcb99cc1",
   "metadata": {},
   "outputs": [
    {
     "data": {
      "text/plain": [
       "{10, 20, 30}"
      ]
     },
     "execution_count": 14,
     "metadata": {},
     "output_type": "execute_result"
    }
   ],
   "source": [
    "vlan_1.intersection(vlan_2)"
   ]
  },
  {
   "cell_type": "code",
   "execution_count": 15,
   "id": "e27a8aee",
   "metadata": {},
   "outputs": [
    {
     "data": {
      "text/plain": [
       "{10, 20, 30}"
      ]
     },
     "execution_count": 15,
     "metadata": {},
     "output_type": "execute_result"
    }
   ],
   "source": [
    "vlan_1 & vlan_2 # same with intersection"
   ]
  },
  {
   "cell_type": "markdown",
   "id": "d6489388",
   "metadata": {},
   "source": [
    "## Boolean\n",
    "\n",
    "Boolean values in Python are two constants True and False.\n",
    "In Python, not only True and False are considered True and False values.\n",
    "\n",
    "**True value:**\n",
    "\n",
    "- any non-zero number \n",
    "- any non-empty string\n",
    "- any non-empty object \n",
    "\n",
    "**False value:**\n",
    "\n",
    "- 0\n",
    "- none\n",
    "- empty string \n",
    "- empty object\n",
    "\n",
    "Other True and False values tend to follow the condition logically."
   ]
  },
  {
   "cell_type": "code",
   "execution_count": 17,
   "id": "cd91d7fd",
   "metadata": {},
   "outputs": [
    {
     "name": "stdout",
     "output_type": "stream",
     "text": [
      "True\n",
      "False\n",
      "True\n",
      "[0]\n",
      "True\n",
      "[1]\n",
      "False\n",
      "True\n"
     ]
    }
   ],
   "source": [
    "vlan = [10,20,30]\n",
    "print(bool(vlan))\n",
    "vlans = []\n",
    "print(bool(vlans))\n",
    "vlan0 = [0]\n",
    "print(bool(vlan0))\n",
    "print(vlan0)\n",
    "vlan0 = [1]\n",
    "print(bool(vlan0))\n",
    "print(vlan0)\n",
    "print(bool(0))\n",
    "print(bool(1))"
   ]
  },
  {
   "cell_type": "code",
   "execution_count": null,
   "id": "638648da",
   "metadata": {},
   "outputs": [],
   "source": []
  }
 ],
 "metadata": {
  "kernelspec": {
   "display_name": "Python 3 (ipykernel)",
   "language": "python",
   "name": "python3"
  },
  "language_info": {
   "codemirror_mode": {
    "name": "ipython",
    "version": 3
   },
   "file_extension": ".py",
   "mimetype": "text/x-python",
   "name": "python",
   "nbconvert_exporter": "python",
   "pygments_lexer": "ipython3",
   "version": "3.10.6"
  }
 },
 "nbformat": 4,
 "nbformat_minor": 5
}
