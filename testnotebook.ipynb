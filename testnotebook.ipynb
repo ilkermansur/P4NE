{
 "cells": [
  {
   "cell_type": "code",
   "execution_count": 1,
   "id": "36005d08-57ac-4b7d-ba90-267acc7e9275",
   "metadata": {},
   "outputs": [
    {
     "name": "stdout",
     "output_type": "stream",
     "text": [
      "Hello World!\n"
     ]
    }
   ],
   "source": [
    "print ('Hello World!')"
   ]
  },
  {
   "cell_type": "markdown",
   "id": "c5b2d496-2db1-4c5b-ab1e-2e398d54f8cb",
   "metadata": {},
   "source": [
    "#### Burası çok önemli"
   ]
  },
  {
   "cell_type": "code",
   "execution_count": null,
   "id": "fa9d24e2-296a-4e9e-9999-9b455aa020fc",
   "metadata": {},
   "outputs": [],
   "source": [
    "yas01 = input('Lütfen yaşınızı giriniz :')\n",
    "print (yas01) "
   ]
  },
  {
   "cell_type": "code",
   "execution_count": null,
   "id": "6f2f1d3f-a95a-4e60-9961-072a6851075f",
   "metadata": {},
   "outputs": [],
   "source": []
  }
 ],
 "metadata": {
  "kernelspec": {
   "display_name": "Python 3 (ipykernel)",
   "language": "python",
   "name": "python3"
  },
  "language_info": {
   "codemirror_mode": {
    "name": "ipython",
    "version": 3
   },
   "file_extension": ".py",
   "mimetype": "text/x-python",
   "name": "python",
   "nbconvert_exporter": "python",
   "pygments_lexer": "ipython3",
   "version": "3.10.6"
  }
 },
 "nbformat": 4,
 "nbformat_minor": 5
}
